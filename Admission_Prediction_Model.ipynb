{
  "nbformat": 4,
  "nbformat_minor": 0,
  "metadata": {
    "colab": {
      "name": "Admission-Prediction-Model",
      "provenance": [],
      "collapsed_sections": [],
      "authorship_tag": "ABX9TyOaQ/nBarP4cAjUkLCPDcHs",
      "include_colab_link": true
    },
    "kernelspec": {
      "name": "python3",
      "display_name": "Python 3"
    },
    "language_info": {
      "name": "python"
    }
  },
  "cells": [
    {
      "cell_type": "markdown",
      "metadata": {
        "id": "view-in-github",
        "colab_type": "text"
      },
      "source": [
        "<a href=\"https://colab.research.google.com/github/cisco00/Admission-Prediction-Model/blob/dev/Admission_Prediction_Model.ipynb\" target=\"_parent\"><img src=\"https://colab.research.google.com/assets/colab-badge.svg\" alt=\"Open In Colab\"/></a>"
      ]
    },
    {
      "cell_type": "markdown",
      "metadata": {
        "id": "aSZfKiVOSuD-"
      },
      "source": [
        "Linear Regression model to predict the chance a student have in other to be admitted after written a GRE or TOEFL  "
      ]
    },
    {
      "cell_type": "code",
      "metadata": {
        "id": "D6-YQmgvNmKF"
      },
      "source": [
        "import numpy as np\n",
        "import pandas as pd\n",
        "import matplotlib.pyplot as plt\n",
        "import seaborn as sns\n",
        "from sklearn.linear_model import LinearRegression\n",
        "from sklearn.model_selection import train_test_split"
      ],
      "execution_count": 83,
      "outputs": []
    },
    {
      "cell_type": "markdown",
      "metadata": {
        "id": "MtO_rfipAnFB"
      },
      "source": [
        "reading the dataset into the notebook using pandas library"
      ]
    },
    {
      "cell_type": "code",
      "metadata": {
        "colab": {
          "base_uri": "https://localhost:8080/",
          "height": 221
        },
        "id": "lVh4Z80kU-r7",
        "outputId": "59b9dcd9-4b28-4863-bf77-ce2f63427730"
      },
      "source": [
        "Admission_Predict = pd.read_csv(\"/content/Admission_Predict.csv\")\n",
        "Admission_Predict.tail()"
      ],
      "execution_count": 84,
      "outputs": [
        {
          "output_type": "execute_result",
          "data": {
            "text/html": [
              "<div>\n",
              "<style scoped>\n",
              "    .dataframe tbody tr th:only-of-type {\n",
              "        vertical-align: middle;\n",
              "    }\n",
              "\n",
              "    .dataframe tbody tr th {\n",
              "        vertical-align: top;\n",
              "    }\n",
              "\n",
              "    .dataframe thead th {\n",
              "        text-align: right;\n",
              "    }\n",
              "</style>\n",
              "<table border=\"1\" class=\"dataframe\">\n",
              "  <thead>\n",
              "    <tr style=\"text-align: right;\">\n",
              "      <th></th>\n",
              "      <th>Serial No.</th>\n",
              "      <th>GRE Score</th>\n",
              "      <th>TOEFL Score</th>\n",
              "      <th>University Rating</th>\n",
              "      <th>SOP</th>\n",
              "      <th>LOR</th>\n",
              "      <th>CGPA</th>\n",
              "      <th>Research</th>\n",
              "      <th>Chance of Admit</th>\n",
              "    </tr>\n",
              "  </thead>\n",
              "  <tbody>\n",
              "    <tr>\n",
              "      <th>395</th>\n",
              "      <td>396</td>\n",
              "      <td>324</td>\n",
              "      <td>110</td>\n",
              "      <td>3</td>\n",
              "      <td>3.5</td>\n",
              "      <td>3.5</td>\n",
              "      <td>9.04</td>\n",
              "      <td>1</td>\n",
              "      <td>0.82</td>\n",
              "    </tr>\n",
              "    <tr>\n",
              "      <th>396</th>\n",
              "      <td>397</td>\n",
              "      <td>325</td>\n",
              "      <td>107</td>\n",
              "      <td>3</td>\n",
              "      <td>3.0</td>\n",
              "      <td>3.5</td>\n",
              "      <td>9.11</td>\n",
              "      <td>1</td>\n",
              "      <td>0.84</td>\n",
              "    </tr>\n",
              "    <tr>\n",
              "      <th>397</th>\n",
              "      <td>398</td>\n",
              "      <td>330</td>\n",
              "      <td>116</td>\n",
              "      <td>4</td>\n",
              "      <td>5.0</td>\n",
              "      <td>4.5</td>\n",
              "      <td>9.45</td>\n",
              "      <td>1</td>\n",
              "      <td>0.91</td>\n",
              "    </tr>\n",
              "    <tr>\n",
              "      <th>398</th>\n",
              "      <td>399</td>\n",
              "      <td>312</td>\n",
              "      <td>103</td>\n",
              "      <td>3</td>\n",
              "      <td>3.5</td>\n",
              "      <td>4.0</td>\n",
              "      <td>8.78</td>\n",
              "      <td>0</td>\n",
              "      <td>0.67</td>\n",
              "    </tr>\n",
              "    <tr>\n",
              "      <th>399</th>\n",
              "      <td>400</td>\n",
              "      <td>333</td>\n",
              "      <td>117</td>\n",
              "      <td>4</td>\n",
              "      <td>5.0</td>\n",
              "      <td>4.0</td>\n",
              "      <td>9.66</td>\n",
              "      <td>1</td>\n",
              "      <td>0.95</td>\n",
              "    </tr>\n",
              "  </tbody>\n",
              "</table>\n",
              "</div>"
            ],
            "text/plain": [
              "     Serial No.  GRE Score  TOEFL Score  ...  CGPA  Research  Chance of Admit \n",
              "395         396        324          110  ...  9.04         1              0.82\n",
              "396         397        325          107  ...  9.11         1              0.84\n",
              "397         398        330          116  ...  9.45         1              0.91\n",
              "398         399        312          103  ...  8.78         0              0.67\n",
              "399         400        333          117  ...  9.66         1              0.95\n",
              "\n",
              "[5 rows x 9 columns]"
            ]
          },
          "metadata": {
            "tags": []
          },
          "execution_count": 84
        }
      ]
    },
    {
      "cell_type": "code",
      "metadata": {
        "id": "8NHFyhdtuA4f"
      },
      "source": [
        "Admission_Predict_ = Admission_Predict.rename(columns={'Chance of Admit ': 'ChanceAdmit', 'GRE Score':'GREScore', 'TOEFL Score':'TOEFLScore', 'University Rating':'UniversityRating'})"
      ],
      "execution_count": 85,
      "outputs": []
    },
    {
      "cell_type": "markdown",
      "metadata": {
        "id": "Vi66tlqGA4oA"
      },
      "source": [
        "**Checking for missing data**"
      ]
    },
    {
      "cell_type": "code",
      "metadata": {
        "colab": {
          "base_uri": "https://localhost:8080/"
        },
        "id": "b11MKNzAanUx",
        "outputId": "b6152bc9-0b17-4c8e-9acb-1a8af5dd095c"
      },
      "source": [
        "Admission_Predict_.isna().sum()"
      ],
      "execution_count": 86,
      "outputs": [
        {
          "output_type": "execute_result",
          "data": {
            "text/plain": [
              "Serial No.          0\n",
              "GREScore            0\n",
              "TOEFLScore          0\n",
              "UniversityRating    0\n",
              "SOP                 0\n",
              "LOR                 0\n",
              "CGPA                0\n",
              "Research            0\n",
              "ChanceAdmit         0\n",
              "dtype: int64"
            ]
          },
          "metadata": {
            "tags": []
          },
          "execution_count": 86
        }
      ]
    },
    {
      "cell_type": "markdown",
      "metadata": {
        "id": "ieDYh8cKBAJy"
      },
      "source": [
        "**Data types**"
      ]
    },
    {
      "cell_type": "code",
      "metadata": {
        "colab": {
          "base_uri": "https://localhost:8080/"
        },
        "id": "83YMOUbzSWaO",
        "outputId": "3b20ec74-fefb-429e-99a5-ac6cb7fce079"
      },
      "source": [
        "Admission_Predict_.info()"
      ],
      "execution_count": 87,
      "outputs": [
        {
          "output_type": "stream",
          "text": [
            "<class 'pandas.core.frame.DataFrame'>\n",
            "RangeIndex: 400 entries, 0 to 399\n",
            "Data columns (total 9 columns):\n",
            " #   Column            Non-Null Count  Dtype  \n",
            "---  ------            --------------  -----  \n",
            " 0   Serial No.        400 non-null    int64  \n",
            " 1   GREScore          400 non-null    int64  \n",
            " 2   TOEFLScore        400 non-null    int64  \n",
            " 3   UniversityRating  400 non-null    int64  \n",
            " 4   SOP               400 non-null    float64\n",
            " 5   LOR               400 non-null    float64\n",
            " 6   CGPA              400 non-null    float64\n",
            " 7   Research          400 non-null    int64  \n",
            " 8   ChanceAdmit       400 non-null    float64\n",
            "dtypes: float64(4), int64(5)\n",
            "memory usage: 28.2 KB\n"
          ],
          "name": "stdout"
        }
      ]
    },
    {
      "cell_type": "markdown",
      "metadata": {
        "id": "HVzxp7zpBK4A"
      },
      "source": [
        "**Dropping features that are not necessary for performing regression**"
      ]
    },
    {
      "cell_type": "code",
      "metadata": {
        "colab": {
          "base_uri": "https://localhost:8080/",
          "height": 419
        },
        "id": "BJ26XtxnR-uG",
        "outputId": "ded2035c-97b1-4279-e6ee-969f86b1ff29"
      },
      "source": [
        "Admission_Predict_1 = Admission_Predict_.drop(columns=['Serial No.'], axis=1)\n",
        "Admission_Predict_1"
      ],
      "execution_count": 88,
      "outputs": [
        {
          "output_type": "execute_result",
          "data": {
            "text/html": [
              "<div>\n",
              "<style scoped>\n",
              "    .dataframe tbody tr th:only-of-type {\n",
              "        vertical-align: middle;\n",
              "    }\n",
              "\n",
              "    .dataframe tbody tr th {\n",
              "        vertical-align: top;\n",
              "    }\n",
              "\n",
              "    .dataframe thead th {\n",
              "        text-align: right;\n",
              "    }\n",
              "</style>\n",
              "<table border=\"1\" class=\"dataframe\">\n",
              "  <thead>\n",
              "    <tr style=\"text-align: right;\">\n",
              "      <th></th>\n",
              "      <th>GREScore</th>\n",
              "      <th>TOEFLScore</th>\n",
              "      <th>UniversityRating</th>\n",
              "      <th>SOP</th>\n",
              "      <th>LOR</th>\n",
              "      <th>CGPA</th>\n",
              "      <th>Research</th>\n",
              "      <th>ChanceAdmit</th>\n",
              "    </tr>\n",
              "  </thead>\n",
              "  <tbody>\n",
              "    <tr>\n",
              "      <th>0</th>\n",
              "      <td>337</td>\n",
              "      <td>118</td>\n",
              "      <td>4</td>\n",
              "      <td>4.5</td>\n",
              "      <td>4.5</td>\n",
              "      <td>9.65</td>\n",
              "      <td>1</td>\n",
              "      <td>0.92</td>\n",
              "    </tr>\n",
              "    <tr>\n",
              "      <th>1</th>\n",
              "      <td>324</td>\n",
              "      <td>107</td>\n",
              "      <td>4</td>\n",
              "      <td>4.0</td>\n",
              "      <td>4.5</td>\n",
              "      <td>8.87</td>\n",
              "      <td>1</td>\n",
              "      <td>0.76</td>\n",
              "    </tr>\n",
              "    <tr>\n",
              "      <th>2</th>\n",
              "      <td>316</td>\n",
              "      <td>104</td>\n",
              "      <td>3</td>\n",
              "      <td>3.0</td>\n",
              "      <td>3.5</td>\n",
              "      <td>8.00</td>\n",
              "      <td>1</td>\n",
              "      <td>0.72</td>\n",
              "    </tr>\n",
              "    <tr>\n",
              "      <th>3</th>\n",
              "      <td>322</td>\n",
              "      <td>110</td>\n",
              "      <td>3</td>\n",
              "      <td>3.5</td>\n",
              "      <td>2.5</td>\n",
              "      <td>8.67</td>\n",
              "      <td>1</td>\n",
              "      <td>0.80</td>\n",
              "    </tr>\n",
              "    <tr>\n",
              "      <th>4</th>\n",
              "      <td>314</td>\n",
              "      <td>103</td>\n",
              "      <td>2</td>\n",
              "      <td>2.0</td>\n",
              "      <td>3.0</td>\n",
              "      <td>8.21</td>\n",
              "      <td>0</td>\n",
              "      <td>0.65</td>\n",
              "    </tr>\n",
              "    <tr>\n",
              "      <th>...</th>\n",
              "      <td>...</td>\n",
              "      <td>...</td>\n",
              "      <td>...</td>\n",
              "      <td>...</td>\n",
              "      <td>...</td>\n",
              "      <td>...</td>\n",
              "      <td>...</td>\n",
              "      <td>...</td>\n",
              "    </tr>\n",
              "    <tr>\n",
              "      <th>395</th>\n",
              "      <td>324</td>\n",
              "      <td>110</td>\n",
              "      <td>3</td>\n",
              "      <td>3.5</td>\n",
              "      <td>3.5</td>\n",
              "      <td>9.04</td>\n",
              "      <td>1</td>\n",
              "      <td>0.82</td>\n",
              "    </tr>\n",
              "    <tr>\n",
              "      <th>396</th>\n",
              "      <td>325</td>\n",
              "      <td>107</td>\n",
              "      <td>3</td>\n",
              "      <td>3.0</td>\n",
              "      <td>3.5</td>\n",
              "      <td>9.11</td>\n",
              "      <td>1</td>\n",
              "      <td>0.84</td>\n",
              "    </tr>\n",
              "    <tr>\n",
              "      <th>397</th>\n",
              "      <td>330</td>\n",
              "      <td>116</td>\n",
              "      <td>4</td>\n",
              "      <td>5.0</td>\n",
              "      <td>4.5</td>\n",
              "      <td>9.45</td>\n",
              "      <td>1</td>\n",
              "      <td>0.91</td>\n",
              "    </tr>\n",
              "    <tr>\n",
              "      <th>398</th>\n",
              "      <td>312</td>\n",
              "      <td>103</td>\n",
              "      <td>3</td>\n",
              "      <td>3.5</td>\n",
              "      <td>4.0</td>\n",
              "      <td>8.78</td>\n",
              "      <td>0</td>\n",
              "      <td>0.67</td>\n",
              "    </tr>\n",
              "    <tr>\n",
              "      <th>399</th>\n",
              "      <td>333</td>\n",
              "      <td>117</td>\n",
              "      <td>4</td>\n",
              "      <td>5.0</td>\n",
              "      <td>4.0</td>\n",
              "      <td>9.66</td>\n",
              "      <td>1</td>\n",
              "      <td>0.95</td>\n",
              "    </tr>\n",
              "  </tbody>\n",
              "</table>\n",
              "<p>400 rows × 8 columns</p>\n",
              "</div>"
            ],
            "text/plain": [
              "     GREScore  TOEFLScore  UniversityRating  ...  CGPA  Research  ChanceAdmit\n",
              "0         337         118                 4  ...  9.65         1         0.92\n",
              "1         324         107                 4  ...  8.87         1         0.76\n",
              "2         316         104                 3  ...  8.00         1         0.72\n",
              "3         322         110                 3  ...  8.67         1         0.80\n",
              "4         314         103                 2  ...  8.21         0         0.65\n",
              "..        ...         ...               ...  ...   ...       ...          ...\n",
              "395       324         110                 3  ...  9.04         1         0.82\n",
              "396       325         107                 3  ...  9.11         1         0.84\n",
              "397       330         116                 4  ...  9.45         1         0.91\n",
              "398       312         103                 3  ...  8.78         0         0.67\n",
              "399       333         117                 4  ...  9.66         1         0.95\n",
              "\n",
              "[400 rows x 8 columns]"
            ]
          },
          "metadata": {
            "tags": []
          },
          "execution_count": 88
        }
      ]
    },
    {
      "cell_type": "code",
      "metadata": {
        "colab": {
          "base_uri": "https://localhost:8080/",
          "height": 398
        },
        "id": "glNE2dN4PH2I",
        "outputId": "24ee0d2a-ee70-41d0-8ac8-80a6d2c8b7db"
      },
      "source": [
        "fig=sns.lmplot(x='TOEFLScore',y='ChanceAdmit',data=Admission_Predict_1)\n",
        "plt.title(\"ChanceAdmit  VS TOEFLScore\")\n",
        "plt.show()"
      ],
      "execution_count": 89,
      "outputs": [
        {
          "output_type": "display_data",
          "data": {
            "image/png": "[encoded data removed]",
            "text/plain": [
              "<Figure size 360x360 with 1 Axes>"
            ]
          },
          "metadata": {
            "tags": [],
            "needs_background": "light"
          }
        }
      ]
    },
    {
      "cell_type": "markdown",
      "metadata": {
        "id": "lI5cI7osPdeX"
      },
      "source": [
        "The graph above shows that people that score high in TOEFL exams tends to stand better chance of getting admitted into the university of high rating compare to others"
      ]
    },
    {
      "cell_type": "code",
      "metadata": {
        "colab": {
          "base_uri": "https://localhost:8080/",
          "height": 396
        },
        "id": "o_KE5IQCM1xP",
        "outputId": "21e7407e-dfe6-4b81-f9c4-ca28eaef1c71"
      },
      "source": [
        "fig=sns.lmplot(x='GREScore',y='ChanceAdmit',data=Admission_Predict_1) \n",
        "plt.title(\"ChanceAdmit  VS GRESCORE\")\n",
        "plt.show()"
      ],
      "execution_count": 90,
      "outputs": [
        {
          "output_type": "display_data",
          "data": {
            "image/png": "[encoded data removed]",
            "text/plain": [
              "<Figure size 360x360 with 1 Axes>"
            ]
          },
          "metadata": {
            "tags": [],
            "needs_background": "light"
          }
        }
      ]
    },
    {
      "cell_type": "markdown",
      "metadata": {
        "id": "jop5gNGrQNXA"
      },
      "source": [
        "The graph above shows that people that score high in GRE exams tends to stand better chance of getting admitted into the university of high rating compare to others"
      ]
    },
    {
      "cell_type": "code",
      "metadata": {
        "colab": {
          "base_uri": "https://localhost:8080/",
          "height": 295
        },
        "id": "hukK8VFfNwhh",
        "outputId": "6da971a9-fcfa-4c68-82f8-de62e0e2cfc2"
      },
      "source": [
        "fig=sns.lineplot(x='CGPA',y='Research',data=Admission_Predict_1)\n",
        "plt.title(\"CGPA vs Research\")\n",
        "plt.show()"
      ],
      "execution_count": 91,
      "outputs": [
        {
          "output_type": "display_data",
          "data": {
            "image/png": "[encoded data removed]",
            "text/plain": [
              "<Figure size 432x288 with 1 Axes>"
            ]
          },
          "metadata": {
            "tags": [],
            "needs_background": "light"
          }
        }
      ]
    },
    {
      "cell_type": "markdown",
      "metadata": {
        "id": "izHbbx9tSw3Q"
      },
      "source": [
        "The graph above shows that people with high CGPA tends to carryout more resarch compare to their conterpart"
      ]
    },
    {
      "cell_type": "markdown",
      "metadata": {
        "id": "nJe6ROkKBXUn"
      },
      "source": [
        "**Checking for the correlation between variables**"
      ]
    },
    {
      "cell_type": "code",
      "metadata": {
        "colab": {
          "base_uri": "https://localhost:8080/",
          "height": 589
        },
        "id": "0xaqMpmtZ-Ib",
        "outputId": "e8aafd6f-c2f5-44d7-ce11-e9841a848490"
      },
      "source": [
        "plt.figure(figsize=(15,10))\n",
        "sns.heatmap(Admission_Predict_1.corr(), annot=True)"
      ],
      "execution_count": 92,
      "outputs": [
        {
          "output_type": "execute_result",
          "data": {
            "text/plain": [
              "<matplotlib.axes._subplots.AxesSubplot at 0x7f9279e985d0>"
            ]
          },
          "metadata": {
            "tags": []
          },
          "execution_count": 92
        },
        {
          "output_type": "display_data",
          "data": {
            "image/png": "[encoded data removed]",
            "text/plain": [
              "<Figure size 1080x720 with 2 Axes>"
            ]
          },
          "metadata": {
            "tags": [],
            "needs_background": "light"
          }
        }
      ]
    },
    {
      "cell_type": "markdown",
      "metadata": {
        "id": "YebO0uvfa1p4"
      },
      "source": [
        "From the heatmap we can tell that the relationship between chances of admitted into university depending on either your TOEFL score or your GRE score the higher the score the better the chance of you getting admission"
      ]
    },
    {
      "cell_type": "code",
      "metadata": {
        "colab": {
          "base_uri": "https://localhost:8080/",
          "height": 317
        },
        "id": "wgVQ35SmWHCg",
        "outputId": "521824f6-ba9d-47c5-caf6-cc84f266f0c5"
      },
      "source": [
        "Admission_Predict_1.describe()"
      ],
      "execution_count": 93,
      "outputs": [
        {
          "output_type": "execute_result",
          "data": {
            "text/html": [
              "<div>\n",
              "<style scoped>\n",
              "    .dataframe tbody tr th:only-of-type {\n",
              "        vertical-align: middle;\n",
              "    }\n",
              "\n",
              "    .dataframe tbody tr th {\n",
              "        vertical-align: top;\n",
              "    }\n",
              "\n",
              "    .dataframe thead th {\n",
              "        text-align: right;\n",
              "    }\n",
              "</style>\n",
              "<table border=\"1\" class=\"dataframe\">\n",
              "  <thead>\n",
              "    <tr style=\"text-align: right;\">\n",
              "      <th></th>\n",
              "      <th>GREScore</th>\n",
              "      <th>TOEFLScore</th>\n",
              "      <th>UniversityRating</th>\n",
              "      <th>SOP</th>\n",
              "      <th>LOR</th>\n",
              "      <th>CGPA</th>\n",
              "      <th>Research</th>\n",
              "      <th>ChanceAdmit</th>\n",
              "    </tr>\n",
              "  </thead>\n",
              "  <tbody>\n",
              "    <tr>\n",
              "      <th>count</th>\n",
              "      <td>400.000000</td>\n",
              "      <td>400.000000</td>\n",
              "      <td>400.000000</td>\n",
              "      <td>400.000000</td>\n",
              "      <td>400.000000</td>\n",
              "      <td>400.000000</td>\n",
              "      <td>400.000000</td>\n",
              "      <td>400.000000</td>\n",
              "    </tr>\n",
              "    <tr>\n",
              "      <th>mean</th>\n",
              "      <td>316.807500</td>\n",
              "      <td>107.410000</td>\n",
              "      <td>3.087500</td>\n",
              "      <td>3.400000</td>\n",
              "      <td>3.452500</td>\n",
              "      <td>8.598925</td>\n",
              "      <td>0.547500</td>\n",
              "      <td>0.724350</td>\n",
              "    </tr>\n",
              "    <tr>\n",
              "      <th>std</th>\n",
              "      <td>11.473646</td>\n",
              "      <td>6.069514</td>\n",
              "      <td>1.143728</td>\n",
              "      <td>1.006869</td>\n",
              "      <td>0.898478</td>\n",
              "      <td>0.596317</td>\n",
              "      <td>0.498362</td>\n",
              "      <td>0.142609</td>\n",
              "    </tr>\n",
              "    <tr>\n",
              "      <th>min</th>\n",
              "      <td>290.000000</td>\n",
              "      <td>92.000000</td>\n",
              "      <td>1.000000</td>\n",
              "      <td>1.000000</td>\n",
              "      <td>1.000000</td>\n",
              "      <td>6.800000</td>\n",
              "      <td>0.000000</td>\n",
              "      <td>0.340000</td>\n",
              "    </tr>\n",
              "    <tr>\n",
              "      <th>25%</th>\n",
              "      <td>308.000000</td>\n",
              "      <td>103.000000</td>\n",
              "      <td>2.000000</td>\n",
              "      <td>2.500000</td>\n",
              "      <td>3.000000</td>\n",
              "      <td>8.170000</td>\n",
              "      <td>0.000000</td>\n",
              "      <td>0.640000</td>\n",
              "    </tr>\n",
              "    <tr>\n",
              "      <th>50%</th>\n",
              "      <td>317.000000</td>\n",
              "      <td>107.000000</td>\n",
              "      <td>3.000000</td>\n",
              "      <td>3.500000</td>\n",
              "      <td>3.500000</td>\n",
              "      <td>8.610000</td>\n",
              "      <td>1.000000</td>\n",
              "      <td>0.730000</td>\n",
              "    </tr>\n",
              "    <tr>\n",
              "      <th>75%</th>\n",
              "      <td>325.000000</td>\n",
              "      <td>112.000000</td>\n",
              "      <td>4.000000</td>\n",
              "      <td>4.000000</td>\n",
              "      <td>4.000000</td>\n",
              "      <td>9.062500</td>\n",
              "      <td>1.000000</td>\n",
              "      <td>0.830000</td>\n",
              "    </tr>\n",
              "    <tr>\n",
              "      <th>max</th>\n",
              "      <td>340.000000</td>\n",
              "      <td>120.000000</td>\n",
              "      <td>5.000000</td>\n",
              "      <td>5.000000</td>\n",
              "      <td>5.000000</td>\n",
              "      <td>9.920000</td>\n",
              "      <td>1.000000</td>\n",
              "      <td>0.970000</td>\n",
              "    </tr>\n",
              "  </tbody>\n",
              "</table>\n",
              "</div>"
            ],
            "text/plain": [
              "         GREScore  TOEFLScore  ...    Research  ChanceAdmit\n",
              "count  400.000000  400.000000  ...  400.000000   400.000000\n",
              "mean   316.807500  107.410000  ...    0.547500     0.724350\n",
              "std     11.473646    6.069514  ...    0.498362     0.142609\n",
              "min    290.000000   92.000000  ...    0.000000     0.340000\n",
              "25%    308.000000  103.000000  ...    0.000000     0.640000\n",
              "50%    317.000000  107.000000  ...    1.000000     0.730000\n",
              "75%    325.000000  112.000000  ...    1.000000     0.830000\n",
              "max    340.000000  120.000000  ...    1.000000     0.970000\n",
              "\n",
              "[8 rows x 8 columns]"
            ]
          },
          "metadata": {
            "tags": []
          },
          "execution_count": 93
        }
      ]
    },
    {
      "cell_type": "markdown",
      "metadata": {
        "id": "zEZaFzY5Ssgm"
      },
      "source": [
        "The describe show that there are no outliers between the scores in the exam"
      ]
    },
    {
      "cell_type": "markdown",
      "metadata": {
        "id": "jVCq11yUfHlQ"
      },
      "source": [
        "Splitting dataset into x and y variables where the x=independent and y=dependent variable"
      ]
    },
    {
      "cell_type": "code",
      "metadata": {
        "id": "qH8q51g8jmxk"
      },
      "source": [
        "y = Admission_Predict_1['ChanceAdmit']\n",
        "x = Admission_Predict_1.drop(columns=['ChanceAdmit'], axis=1)"
      ],
      "execution_count": 94,
      "outputs": []
    },
    {
      "cell_type": "markdown",
      "metadata": {
        "id": "uY7oLyfmFTJL"
      },
      "source": [
        "**converting the dependent variable from series to a numpy array and reshaping it from 1D array to a 2D array**"
      ]
    },
    {
      "cell_type": "code",
      "metadata": {
        "id": "MYH1qgOACxqX"
      },
      "source": [
        "y_1 = y.to_numpy().reshape((-1, 1))"
      ],
      "execution_count": 95,
      "outputs": []
    },
    {
      "cell_type": "markdown",
      "metadata": {
        "id": "W5H4EjteBreq"
      },
      "source": [
        "**splitting dataset into train and test**"
      ]
    },
    {
      "cell_type": "code",
      "metadata": {
        "id": "y0s7U70BWRvp"
      },
      "source": [
        "X_train, X_test, y_train, y_test = train_test_split(x, y_1, test_size=.20, random_state=45 )"
      ],
      "execution_count": 96,
      "outputs": []
    },
    {
      "cell_type": "markdown",
      "metadata": {
        "id": "cAtoN6YXGI38"
      },
      "source": [
        "**fitting the models**"
      ]
    },
    {
      "cell_type": "code",
      "metadata": {
        "id": "dzxewDqBXVX5"
      },
      "source": [
        "model = LinearRegression()\n",
        "admin_chance = model.fit(X_train, y_train)"
      ],
      "execution_count": 97,
      "outputs": []
    },
    {
      "cell_type": "markdown",
      "metadata": {
        "id": "zuxAr4rWGw06"
      },
      "source": [
        "**Getting my r_square(Coefficient of determination)**"
      ]
    },
    {
      "cell_type": "code",
      "metadata": {
        "colab": {
          "base_uri": "https://localhost:8080/"
        },
        "id": "qjORnXlMgLh_",
        "outputId": "d70b2281-1193-41bf-8dbf-75ca457cb1f9"
      },
      "source": [
        "coef_deter = admin_chance.score(X_train, y_train)\n",
        "coef_deter"
      ],
      "execution_count": 98,
      "outputs": [
        {
          "output_type": "execute_result",
          "data": {
            "text/plain": [
              "0.8025359599838279"
            ]
          },
          "metadata": {
            "tags": []
          },
          "execution_count": 98
        }
      ]
    },
    {
      "cell_type": "markdown",
      "metadata": {
        "id": "bHKz5i0eHDQu"
      },
      "source": [
        "From the score it goes to say the model has 80% of telling if a student has the chance of getting admission into the university or not."
      ]
    },
    {
      "cell_type": "markdown",
      "metadata": {
        "id": "mbiAZgVRH6nk"
      },
      "source": [
        "**Adjusted r_square**"
      ]
    },
    {
      "cell_type": "code",
      "metadata": {
        "id": "tK40SDNJdNFX",
        "colab": {
          "base_uri": "https://localhost:8080/"
        },
        "outputId": "70509e9e-b5ab-4a93-e97f-a3628bc59765"
      },
      "source": [
        "1 - (1-model.score(X_train, y_train))*(len(y_train)-1)/(len(y_train)-X_train.shape[1]-1)"
      ],
      "execution_count": 99,
      "outputs": [
        {
          "output_type": "execute_result",
          "data": {
            "text/plain": [
              "0.7981056770347471"
            ]
          },
          "metadata": {
            "tags": []
          },
          "execution_count": 99
        }
      ]
    },
    {
      "cell_type": "markdown",
      "metadata": {
        "id": "AfRvXU2adRXy"
      },
      "source": [
        "This shows that even with addition of more variable to the model, the model will have 79.8% ~ 80% of predicting the variables"
      ]
    },
    {
      "cell_type": "code",
      "metadata": {
        "colab": {
          "base_uri": "https://localhost:8080/"
        },
        "id": "uhY3eGHKGkwC",
        "outputId": "8d0a36d4-9980-439b-eb24-80370690b1cc"
      },
      "source": [
        "intercept = model.coef_\n",
        "intercept"
      ],
      "execution_count": 100,
      "outputs": [
        {
          "output_type": "execute_result",
          "data": {
            "text/plain": [
              "array([[ 0.00215273,  0.00217638,  0.00522328, -0.00127586,  0.01996118,\n",
              "         0.12148871,  0.02298341]])"
            ]
          },
          "metadata": {
            "tags": []
          },
          "execution_count": 100
        }
      ]
    },
    {
      "cell_type": "markdown",
      "metadata": {
        "id": "fKjNpc4dVG-k"
      },
      "source": [
        "The Coefficient above shows that there is a positive relationship between the independent variables and the dependent variable aside from SOP which has a negative relationship with the dependent variable. Which goes to say even with high SOP there is no chance of getting admitted into the university. "
      ]
    },
    {
      "cell_type": "code",
      "metadata": {
        "id": "hIu0pfSTfCy6"
      },
      "source": [
        "y_predict = admin_chance.predict(X_test)"
      ],
      "execution_count": 101,
      "outputs": []
    },
    {
      "cell_type": "code",
      "metadata": {
        "colab": {
          "base_uri": "https://localhost:8080/"
        },
        "id": "rihX6Kxge8kW",
        "outputId": "325e2a06-9211-4086-ee69-97620013eb89"
      },
      "source": [
        "from sklearn.metrics import mean_absolute_error, mean_squared_error, r2_score\n",
        "print(\"MAE : \",mean_absolute_error(y_test, y_predict))\n",
        "print(\"MSE : \",mean_squared_error(y_test, y_predict))\n",
        "print(\"R2 score : \",r2_score(y_test, y_predict))"
      ],
      "execution_count": 102,
      "outputs": [
        {
          "output_type": "stream",
          "text": [
            "MAE :  0.044405536774571985\n",
            "MSE :  0.003321683663424673\n",
            "R2 score :  0.8049825387312869\n"
          ],
          "name": "stdout"
        }
      ]
    },
    {
      "cell_type": "markdown",
      "metadata": {
        "id": "YGg5zv0yNVDI"
      },
      "source": [
        "**Statement Hypothesis**\n",
        "\n",
        "H1: There is a high chance of getting admitted into a university of high rating when you have high scores in GRE and TOEFL exams respectively.\n",
        "\n",
        "H0: There is no high chance of getting admitted into a university of high rating when you have high scores in GRE and TOEFL exams respectively."
      ]
    },
    {
      "cell_type": "code",
      "metadata": {
        "id": "ZxRpo6DsoP_p"
      },
      "source": [
        "import statsmodels.formula.api as smf"
      ],
      "execution_count": 103,
      "outputs": []
    },
    {
      "cell_type": "code",
      "metadata": {
        "id": "-Dzeamtvq1S1"
      },
      "source": [
        "feature_cols = ['GREScore', 'TOEFLScore', 'CGPA', 'Research', 'UniversityRating']\n",
        "X = Admission_Predict_1[feature_cols]\n",
        "y = Admission_Predict_1.ChanceAdmit"
      ],
      "execution_count": 104,
      "outputs": []
    },
    {
      "cell_type": "code",
      "metadata": {
        "colab": {
          "base_uri": "https://localhost:8080/",
          "height": 562
        },
        "id": "nmb1Pe7tr7CM",
        "outputId": "53a007ef-3f5a-4266-e7a8-fa2d8e7c6b00"
      },
      "source": [
        "admin_chance_lm = smf.ols(formula='ChanceAdmit ~ GREScore + TOEFLScore + CGPA + Research + UniversityRating', data=Admission_Predict_).fit()\n",
        "admin_chance_lm.conf_int()\n",
        "admin_chance_lm.summary()"
      ],
      "execution_count": 105,
      "outputs": [
        {
          "output_type": "execute_result",
          "data": {
            "text/html": [
              "<table class=\"simpletable\">\n",
              "<caption>OLS Regression Results</caption>\n",
              "<tr>\n",
              "  <th>Dep. Variable:</th>       <td>ChanceAdmit</td>   <th>  R-squared:         </th> <td>   0.795</td> \n",
              "</tr>\n",
              "<tr>\n",
              "  <th>Model:</th>                   <td>OLS</td>       <th>  Adj. R-squared:    </th> <td>   0.792</td> \n",
              "</tr>\n",
              "<tr>\n",
              "  <th>Method:</th>             <td>Least Squares</td>  <th>  F-statistic:       </th> <td>   305.0</td> \n",
              "</tr>\n",
              "<tr>\n",
              "  <th>Date:</th>             <td>Sun, 20 Jun 2021</td> <th>  Prob (F-statistic):</th> <td>5.23e-133</td>\n",
              "</tr>\n",
              "<tr>\n",
              "  <th>Time:</th>                 <td>11:28:04</td>     <th>  Log-Likelihood:    </th> <td>  528.63</td> \n",
              "</tr>\n",
              "<tr>\n",
              "  <th>No. Observations:</th>      <td>   400</td>      <th>  AIC:               </th> <td>  -1045.</td> \n",
              "</tr>\n",
              "<tr>\n",
              "  <th>Df Residuals:</th>          <td>   394</td>      <th>  BIC:               </th> <td>  -1021.</td> \n",
              "</tr>\n",
              "<tr>\n",
              "  <th>Df Model:</th>              <td>     5</td>      <th>                     </th>     <td> </td>    \n",
              "</tr>\n",
              "<tr>\n",
              "  <th>Covariance Type:</th>      <td>nonrobust</td>    <th>                     </th>     <td> </td>    \n",
              "</tr>\n",
              "</table>\n",
              "<table class=\"simpletable\">\n",
              "<tr>\n",
              "          <td></td>            <th>coef</th>     <th>std err</th>      <th>t</th>      <th>P>|t|</th>  <th>[0.025</th>    <th>0.975]</th>  \n",
              "</tr>\n",
              "<tr>\n",
              "  <th>Intercept</th>        <td>   -1.2784</td> <td>    0.127</td> <td>  -10.088</td> <td> 0.000</td> <td>   -1.528</td> <td>   -1.029</td>\n",
              "</tr>\n",
              "<tr>\n",
              "  <th>GREScore</th>         <td>    0.0016</td> <td>    0.001</td> <td>    2.715</td> <td> 0.007</td> <td>    0.000</td> <td>    0.003</td>\n",
              "</tr>\n",
              "<tr>\n",
              "  <th>TOEFLScore</th>       <td>    0.0028</td> <td>    0.001</td> <td>    2.500</td> <td> 0.013</td> <td>    0.001</td> <td>    0.005</td>\n",
              "</tr>\n",
              "<tr>\n",
              "  <th>CGPA</th>             <td>    0.1322</td> <td>    0.012</td> <td>   11.185</td> <td> 0.000</td> <td>    0.109</td> <td>    0.155</td>\n",
              "</tr>\n",
              "<tr>\n",
              "  <th>Research</th>         <td>    0.0261</td> <td>    0.008</td> <td>    3.234</td> <td> 0.001</td> <td>    0.010</td> <td>    0.042</td>\n",
              "</tr>\n",
              "<tr>\n",
              "  <th>UniversityRating</th> <td>    0.0109</td> <td>    0.004</td> <td>    2.486</td> <td> 0.013</td> <td>    0.002</td> <td>    0.020</td>\n",
              "</tr>\n",
              "</table>\n",
              "<table class=\"simpletable\">\n",
              "<tr>\n",
              "  <th>Omnibus:</th>       <td>87.670</td> <th>  Durbin-Watson:     </th> <td>   0.779</td>\n",
              "</tr>\n",
              "<tr>\n",
              "  <th>Prob(Omnibus):</th> <td> 0.000</td> <th>  Jarque-Bera (JB):  </th> <td> 173.050</td>\n",
              "</tr>\n",
              "<tr>\n",
              "  <th>Skew:</th>          <td>-1.179</td> <th>  Prob(JB):          </th> <td>2.65e-38</td>\n",
              "</tr>\n",
              "<tr>\n",
              "  <th>Kurtosis:</th>      <td> 5.196</td> <th>  Cond. No.          </th> <td>1.31e+04</td>\n",
              "</tr>\n",
              "</table><br/><br/>Warnings:<br/>[1] Standard Errors assume that the covariance matrix of the errors is correctly specified.<br/>[2] The condition number is large, 1.31e+04. This might indicate that there are<br/>strong multicollinearity or other numerical problems."
            ],
            "text/plain": [
              "<class 'statsmodels.iolib.summary.Summary'>\n",
              "\"\"\"\n",
              "                            OLS Regression Results                            \n",
              "==============================================================================\n",
              "Dep. Variable:            ChanceAdmit   R-squared:                       0.795\n",
              "Model:                            OLS   Adj. R-squared:                  0.792\n",
              "Method:                 Least Squares   F-statistic:                     305.0\n",
              "Date:                Sun, 20 Jun 2021   Prob (F-statistic):          5.23e-133\n",
              "Time:                        11:28:04   Log-Likelihood:                 528.63\n",
              "No. Observations:                 400   AIC:                            -1045.\n",
              "Df Residuals:                     394   BIC:                            -1021.\n",
              "Df Model:                           5                                         \n",
              "Covariance Type:            nonrobust                                         \n",
              "====================================================================================\n",
              "                       coef    std err          t      P>|t|      [0.025      0.975]\n",
              "------------------------------------------------------------------------------------\n",
              "Intercept           -1.2784      0.127    -10.088      0.000      -1.528      -1.029\n",
              "GREScore             0.0016      0.001      2.715      0.007       0.000       0.003\n",
              "TOEFLScore           0.0028      0.001      2.500      0.013       0.001       0.005\n",
              "CGPA                 0.1322      0.012     11.185      0.000       0.109       0.155\n",
              "Research             0.0261      0.008      3.234      0.001       0.010       0.042\n",
              "UniversityRating     0.0109      0.004      2.486      0.013       0.002       0.020\n",
              "==============================================================================\n",
              "Omnibus:                       87.670   Durbin-Watson:                   0.779\n",
              "Prob(Omnibus):                  0.000   Jarque-Bera (JB):              173.050\n",
              "Skew:                          -1.179   Prob(JB):                     2.65e-38\n",
              "Kurtosis:                       5.196   Cond. No.                     1.31e+04\n",
              "==============================================================================\n",
              "\n",
              "Warnings:\n",
              "[1] Standard Errors assume that the covariance matrix of the errors is correctly specified.\n",
              "[2] The condition number is large, 1.31e+04. This might indicate that there are\n",
              "strong multicollinearity or other numerical problems.\n",
              "\"\"\""
            ]
          },
          "metadata": {
            "tags": []
          },
          "execution_count": 105
        }
      ]
    },
    {
      "cell_type": "markdown",
      "metadata": {
        "id": "7hNbMMQh6t1G"
      },
      "source": [
        "**Summary Statistics**\n",
        "\n",
        "The Log Likelihood value is a measure of goodness of fit for any model. And since it is high it goes to say the model has high predictive capabilities of telling if a student with high scores in any of the exams can perform better when he/she get admitted.\n",
        "\n",
        "Durbin-Watson: The Durbin Watson statistic is a test for autocorrelation in a data set. A value of 2.0 means there is no autocorrelation detected in the sample. Values from zero to 2.0 indicate positive autocorrelation and values from 2.0 to 4.0 indicate negative autocorrelation. From our summary statistic it goes to show that variables being used for the correlation all has positive relationship with the dependent variable.\n",
        "\n",
        "Jarque–Bera test is a goodness-of-fit test of whether sample data have the skewness and kurtosis matching a normal distribution. From the summary statistics the Jargue_Bera test shows that our dataset are normally distributed.\n",
        "\n",
        "P-Value:This shows the level of significance of the the variables and with low P-value of less than 0.05 it goes to show that the variables used in the regression equation are all significant."
      ]
    },
    {
      "cell_type": "markdown",
      "metadata": {
        "id": "SVKPMpKfDy4K"
      },
      "source": [
        "**Conclusion**\n",
        "\n",
        "With high R-squared of 79.5% ~ 80% it goes to say that our model has 80% of telling if a student has the chance of getting admission into the university or not. Sometimes the R-squared might be decieving so to get a better model with no overfitting there is the need to check your adjusted R-Squared shows that even with addition of more variable to the model, the model will have 79% of predicting the response.\n",
        "\n",
        "Finally with p-value less than 0.05 we accept the alternative(H1) which say there here is a high chance of getting admitted into a university of high rating when you have high scores in GRE and TOEFL exams respectively and reject the Null(H0) hypothesis.  "
      ]
    },
    {
      "cell_type": "code",
      "metadata": {
        "id": "xHdXt_jQ2X63"
      },
      "source": [
        ""
      ],
      "execution_count": 105,
      "outputs": []
    }
  ]
}